{
 "cells": [
  {
   "cell_type": "code",
   "execution_count": 1,
   "id": "1105b70a",
   "metadata": {},
   "outputs": [],
   "source": [
    "from pathlib import Path\n",
    "import scanpy as sc\n",
    "import scanpy.external as sce\n",
    "import anndata as ad"
   ]
  },
  {
   "cell_type": "code",
   "execution_count": 2,
   "id": "9c161016",
   "metadata": {},
   "outputs": [],
   "source": [
    "sc.set_figure_params(dpi=300)\n",
    "\n",
    "BASE_DIR = Path(\"datasets/GSE171892\")"
   ]
  },
  {
   "cell_type": "code",
   "execution_count": 3,
   "id": "0468709d",
   "metadata": {},
   "outputs": [],
   "source": [
    "adata = sc.read(BASE_DIR / \"GSE171892_human_integrated.h5ad\")"
   ]
  },
  {
   "cell_type": "code",
   "execution_count": null,
   "id": "9695587c",
   "metadata": {},
   "outputs": [],
   "source": [
    "cell_populations = {\n",
    "    # === Progenitors ===\n",
    "    \"RP\": [\"SOX2\", \"LMX1A\", \"MSX1\", \"MSX2\", \"PAX3\", \"WNT1\"],\n",
    "    \"FP\": [\"SOX2\", \"FOXA2\", \"FERD3L\", \"ARX\", \"SHH\", \"LMX1B\", \"NKX6-1\"],\n",
    "    \"Progenitor\": [\"SOX2\"],\n",
    "    \"Neuron\": [\"STMN2\",\"MAP2\",\"ELAVL3\"],\n",
    "    \"Oligodendrocyte\": [\"SOX10\", \"OLIG2\", \"MBP\"],\n",
    "\n",
    "    # === Mesoderm ===\n",
    "    \"Mesoderm_I\": [\"FOXC1\"],\n",
    "    \"Mesoderm_II\": [\"FOXC2\"],\n",
    "    \"Mesoderm_III\": [\"TWIST1\"],\n",
    "    \"Mesoderm_IV\": [\"TWIST2\"],\n",
    "    \"Mesoderm_V\": [\"MEOX1\"],\n",
    "    \"Mesoderm_VI\": [\"MEOX2\"],\n",
    "\n",
    "    # === Myoblast and crest progenitors ===\n",
    "    \"Myoblast\": [\"MYOG\"],\n",
    "    \"Neural_crest_progenitor\": [\"SOX10\", \"SOX2\"],\n",
    "    \"DRG_Progenitor\": [\"SOX10\"],\n",
    "    \"Sensory_neuron_progenitor\": [\"NEUROD1\", \"NEUROG1\", \"NEUROG2\"],\n",
    " \n",
    "}\n"
   ]
  },
  {
   "cell_type": "code",
   "execution_count": null,
   "id": "9b44446a",
   "metadata": {},
   "outputs": [],
   "source": [
    "sc.pl.dotplot(adata, cell_populations, groupby='leiden', standard_scale='var')"
   ]
  },
  {
   "cell_type": "code",
   "execution_count": null,
   "id": "3ae25f5b",
   "metadata": {},
   "outputs": [],
   "source": [
    "cluster_dict = {\n",
    "'0': 'Neuron', '1': 'Neuron', '2': 'Neuron', '3': 'Mesoderm', '4': 'Prob Neuron', '5': 'Not Sure', '6': 'Mesoderm', '7': 'Mesoderm', '8': 'SOX2', '9': 'Mesoderm',\n",
    "'10': 'Mesoderm', '11': 'Sensory Neuron', '12': 'Prob Neuron', '13': 'Peripheral Glia', '14': 'Neuron', '15': 'Mesoderm', '16': 'Motor Neuron', '17': 'Prob Neuron', '18': 'Roofplate', '19': 'Roofplate',\n",
    "'20': 'Neuron', '21': 'Neuron', '22': 'Neuron', '23': 'Peripheral Glia', '24': 'SOX2', '25': 'Oligodendrocyte', '26': 'Mesoderm', '27': 'Floorplate', '28': 'Neuron', '29': 'Neuron',\n",
    "'30': 'Neuron', '31': 'Blood', '32': 'Mesoderm', '33': 'Mesoderm', '34': 'Sensory Neuron Progenitor', '35': 'Skin', '36': 'Myoblast', '37': 'Mesoderm', '38': 'Prob Neuron', '39': 'Blood',\n",
    "'40': 'Prob Neuron', '41': 'Prob Neuron', '42': 'Mesoderm', '43': 'Prob Neuron'}\n",
    "adata.obs['celltype'] = adata.obs['leiden'].map(cluster_dict)"
   ]
  },
  {
   "cell_type": "code",
   "execution_count": null,
   "id": "7054921a",
   "metadata": {},
   "outputs": [],
   "source": [
    "sc.pl.umap(adata, color=['leiden'])"
   ]
  },
  {
   "cell_type": "code",
   "execution_count": null,
   "id": "00c4a1b7",
   "metadata": {},
   "outputs": [],
   "source": [
    "sc.pl.umap(adata, color=['leiden'])"
   ]
  },
  {
   "cell_type": "code",
   "execution_count": null,
   "id": "1e35e6a0",
   "metadata": {},
   "outputs": [],
   "source": [
    "sc.pl.umap(adata, color=['celltype'])"
   ]
  },
  {
   "cell_type": "code",
   "execution_count": null,
   "id": "9493f301",
   "metadata": {},
   "outputs": [],
   "source": [
    "adata.write(BASE_DIR / \"GSE171892_human_integrated.h5ad\")"
   ]
  },
  {
   "cell_type": "code",
   "execution_count": null,
   "id": "ef536f5a",
   "metadata": {},
   "outputs": [],
   "source": [
    "import scipy.sparse as sp\n",
    "adata.X = sp.csr_matrix(adata.X)\n",
    "adata.write(\"datasets/GSE171892/GSE171892_sparse.h5ad\", compression=\"gzip\")"
   ]
  },
  {
   "cell_type": "code",
   "execution_count": null,
   "id": "bddca7ca",
   "metadata": {},
   "outputs": [],
   "source": [
    "exclude = [\"Mesoderm\", \"Blood\", \"Skin\"]\n",
    "\n",
    "# Boolean mask of the cells we want to keep\n",
    "mask = ~adata.obs['celltype'].isin(exclude)\n",
    "\n",
    "# Subset directly (no .copy()!)\n",
    "adata = adata[mask]"
   ]
  },
  {
   "cell_type": "code",
   "execution_count": 9,
   "id": "b7f20905",
   "metadata": {},
   "outputs": [
    {
     "ename": "MemoryError",
     "evalue": "Unable to allocate 14.9 GiB for an array with shape (71655, 27940) and data type float64",
     "output_type": "error",
     "traceback": [
      "\u001b[31m---------------------------------------------------------------------------\u001b[39m",
      "\u001b[31mMemoryError\u001b[39m                               Traceback (most recent call last)",
      "\u001b[36mCell\u001b[39m\u001b[36m \u001b[39m\u001b[32mIn[9]\u001b[39m\u001b[32m, line 1\u001b[39m\n\u001b[32m----> \u001b[39m\u001b[32m1\u001b[39m adata = \u001b[43madata\u001b[49m\u001b[43m.\u001b[49m\u001b[43mcopy\u001b[49m\u001b[43m(\u001b[49m\u001b[43m)\u001b[49m\n",
      "\u001b[36mFile \u001b[39m\u001b[32md:\\Projects\\BCCRNASeq\\BCCRNASeq\\.venv\\Lib\\site-packages\\anndata\\_core\\anndata.py:1474\u001b[39m, in \u001b[36mAnnData.copy\u001b[39m\u001b[34m(self, filename)\u001b[39m\n\u001b[32m   1467\u001b[39m \u001b[38;5;28;01mif\u001b[39;00m \u001b[38;5;129;01mnot\u001b[39;00m \u001b[38;5;28mself\u001b[39m.isbacked:\n\u001b[32m   1468\u001b[39m     \u001b[38;5;28;01mif\u001b[39;00m \u001b[38;5;28mself\u001b[39m.is_view \u001b[38;5;129;01mand\u001b[39;00m \u001b[38;5;28mself\u001b[39m._has_X():\n\u001b[32m   1469\u001b[39m         \u001b[38;5;66;03m# TODO: How do I unambiguously check if this is a copy?\u001b[39;00m\n\u001b[32m   1470\u001b[39m         \u001b[38;5;66;03m# Subsetting this way means we don’t have to have a view type\u001b[39;00m\n\u001b[32m   1471\u001b[39m         \u001b[38;5;66;03m# defined for the matrix, which is needed for some of the\u001b[39;00m\n\u001b[32m   1472\u001b[39m         \u001b[38;5;66;03m# current distributed backend. Specifically Dask.\u001b[39;00m\n\u001b[32m   1473\u001b[39m         \u001b[38;5;28;01mreturn\u001b[39;00m \u001b[38;5;28mself\u001b[39m._mutated_copy(\n\u001b[32m-> \u001b[39m\u001b[32m1474\u001b[39m             X=\u001b[43m_subset\u001b[49m\u001b[43m(\u001b[49m\u001b[38;5;28;43mself\u001b[39;49m\u001b[43m.\u001b[49m\u001b[43m_adata_ref\u001b[49m\u001b[43m.\u001b[49m\u001b[43mX\u001b[49m\u001b[43m,\u001b[49m\u001b[43m \u001b[49m\u001b[43m(\u001b[49m\u001b[38;5;28;43mself\u001b[39;49m\u001b[43m.\u001b[49m\u001b[43m_oidx\u001b[49m\u001b[43m,\u001b[49m\u001b[43m \u001b[49m\u001b[38;5;28;43mself\u001b[39;49m\u001b[43m.\u001b[49m\u001b[43m_vidx\u001b[49m\u001b[43m)\u001b[49m\u001b[43m)\u001b[49m.copy()\n\u001b[32m   1475\u001b[39m         )\n\u001b[32m   1476\u001b[39m     \u001b[38;5;28;01melse\u001b[39;00m:\n\u001b[32m   1477\u001b[39m         \u001b[38;5;28;01mreturn\u001b[39;00m \u001b[38;5;28mself\u001b[39m._mutated_copy()\n",
      "\u001b[36mFile \u001b[39m\u001b[32mD:\\Software\\miniconda3\\Lib\\functools.py:909\u001b[39m, in \u001b[36msingledispatch.<locals>.wrapper\u001b[39m\u001b[34m(*args, **kw)\u001b[39m\n\u001b[32m    905\u001b[39m \u001b[38;5;28;01mif\u001b[39;00m \u001b[38;5;129;01mnot\u001b[39;00m args:\n\u001b[32m    906\u001b[39m     \u001b[38;5;28;01mraise\u001b[39;00m \u001b[38;5;167;01mTypeError\u001b[39;00m(\u001b[33mf\u001b[39m\u001b[33m'\u001b[39m\u001b[38;5;132;01m{\u001b[39;00mfuncname\u001b[38;5;132;01m}\u001b[39;00m\u001b[33m requires at least \u001b[39m\u001b[33m'\u001b[39m\n\u001b[32m    907\u001b[39m                     \u001b[33m'\u001b[39m\u001b[33m1 positional argument\u001b[39m\u001b[33m'\u001b[39m)\n\u001b[32m--> \u001b[39m\u001b[32m909\u001b[39m \u001b[38;5;28;01mreturn\u001b[39;00m \u001b[43mdispatch\u001b[49m\u001b[43m(\u001b[49m\u001b[43margs\u001b[49m\u001b[43m[\u001b[49m\u001b[32;43m0\u001b[39;49m\u001b[43m]\u001b[49m\u001b[43m.\u001b[49m\u001b[34;43m__class__\u001b[39;49m\u001b[43m)\u001b[49m\u001b[43m(\u001b[49m\u001b[43m*\u001b[49m\u001b[43margs\u001b[49m\u001b[43m,\u001b[49m\u001b[43m \u001b[49m\u001b[43m*\u001b[49m\u001b[43m*\u001b[49m\u001b[43mkw\u001b[49m\u001b[43m)\u001b[49m\n",
      "\u001b[36mFile \u001b[39m\u001b[32md:\\Projects\\BCCRNASeq\\BCCRNASeq\\.venv\\Lib\\site-packages\\anndata\\_core\\index.py:174\u001b[39m, in \u001b[36m_subset\u001b[39m\u001b[34m(a, subset_idx)\u001b[39m\n\u001b[32m    172\u001b[39m \u001b[38;5;28;01mif\u001b[39;00m \u001b[38;5;28mall\u001b[39m(\u001b[38;5;28misinstance\u001b[39m(x, Iterable) \u001b[38;5;28;01mfor\u001b[39;00m x \u001b[38;5;129;01min\u001b[39;00m subset_idx):\n\u001b[32m    173\u001b[39m     subset_idx = np.ix_(*subset_idx)\n\u001b[32m--> \u001b[39m\u001b[32m174\u001b[39m \u001b[38;5;28;01mreturn\u001b[39;00m \u001b[43ma\u001b[49m\u001b[43m[\u001b[49m\u001b[43msubset_idx\u001b[49m\u001b[43m]\u001b[49m\n",
      "\u001b[31mMemoryError\u001b[39m: Unable to allocate 14.9 GiB for an array with shape (71655, 27940) and data type float64"
     ]
    }
   ],
   "source": [
    "adata = adata.copy()"
   ]
  },
  {
   "cell_type": "code",
   "execution_count": null,
   "id": "25747703",
   "metadata": {},
   "outputs": [],
   "source": [
    "print(type(adata._X))"
   ]
  },
  {
   "cell_type": "code",
   "execution_count": 8,
   "id": "c433cc1f",
   "metadata": {},
   "outputs": [
    {
     "ename": "MemoryError",
     "evalue": "Unable to allocate 14.9 GiB for an array with shape (71655, 27940) and data type float64",
     "output_type": "error",
     "traceback": [
      "\u001b[31m---------------------------------------------------------------------------\u001b[39m",
      "\u001b[31mMemoryError\u001b[39m                               Traceback (most recent call last)",
      "\u001b[36mCell\u001b[39m\u001b[36m \u001b[39m\u001b[32mIn[8]\u001b[39m\u001b[32m, line 2\u001b[39m\n\u001b[32m      1\u001b[39m \u001b[38;5;28;01mimport\u001b[39;00m\u001b[38;5;250m \u001b[39m\u001b[34;01mscipy\u001b[39;00m\u001b[34;01m.\u001b[39;00m\u001b[34;01msparse\u001b[39;00m\u001b[38;5;250m \u001b[39m\u001b[38;5;28;01mas\u001b[39;00m\u001b[38;5;250m \u001b[39m\u001b[34;01msp\u001b[39;00m\n\u001b[32m----> \u001b[39m\u001b[32m2\u001b[39m \u001b[38;5;28;01mif\u001b[39;00m \u001b[38;5;129;01mnot\u001b[39;00m sp.issparse(\u001b[43madata\u001b[49m\u001b[43m.\u001b[49m\u001b[43mX\u001b[49m):\n\u001b[32m      3\u001b[39m     adata.X = sp.csr_matrix(adata.X)\n\u001b[32m      4\u001b[39m adata.X = adata.X.astype(\u001b[33m\"\u001b[39m\u001b[33mfloat32\u001b[39m\u001b[33m\"\u001b[39m)\n",
      "\u001b[36mFile \u001b[39m\u001b[32md:\\Projects\\BCCRNASeq\\BCCRNASeq\\.venv\\Lib\\site-packages\\anndata\\_core\\anndata.py:574\u001b[39m, in \u001b[36mAnnData.X\u001b[39m\u001b[34m(self)\u001b[39m\n\u001b[32m    571\u001b[39m     X = \u001b[38;5;28;01mNone\u001b[39;00m\n\u001b[32m    572\u001b[39m \u001b[38;5;28;01melif\u001b[39;00m \u001b[38;5;28mself\u001b[39m.is_view:\n\u001b[32m    573\u001b[39m     X = as_view(\n\u001b[32m--> \u001b[39m\u001b[32m574\u001b[39m         \u001b[43m_subset\u001b[49m\u001b[43m(\u001b[49m\u001b[38;5;28;43mself\u001b[39;49m\u001b[43m.\u001b[49m\u001b[43m_adata_ref\u001b[49m\u001b[43m.\u001b[49m\u001b[43mX\u001b[49m\u001b[43m,\u001b[49m\u001b[43m \u001b[49m\u001b[43m(\u001b[49m\u001b[38;5;28;43mself\u001b[39;49m\u001b[43m.\u001b[49m\u001b[43m_oidx\u001b[49m\u001b[43m,\u001b[49m\u001b[43m \u001b[49m\u001b[38;5;28;43mself\u001b[39;49m\u001b[43m.\u001b[49m\u001b[43m_vidx\u001b[49m\u001b[43m)\u001b[49m\u001b[43m)\u001b[49m,\n\u001b[32m    575\u001b[39m         ElementRef(\u001b[38;5;28mself\u001b[39m, \u001b[33m\"\u001b[39m\u001b[33mX\u001b[39m\u001b[33m\"\u001b[39m),\n\u001b[32m    576\u001b[39m     )\n\u001b[32m    577\u001b[39m \u001b[38;5;28;01melse\u001b[39;00m:\n\u001b[32m    578\u001b[39m     X = \u001b[38;5;28mself\u001b[39m._X\n",
      "\u001b[36mFile \u001b[39m\u001b[32mD:\\Software\\miniconda3\\Lib\\functools.py:909\u001b[39m, in \u001b[36msingledispatch.<locals>.wrapper\u001b[39m\u001b[34m(*args, **kw)\u001b[39m\n\u001b[32m    905\u001b[39m \u001b[38;5;28;01mif\u001b[39;00m \u001b[38;5;129;01mnot\u001b[39;00m args:\n\u001b[32m    906\u001b[39m     \u001b[38;5;28;01mraise\u001b[39;00m \u001b[38;5;167;01mTypeError\u001b[39;00m(\u001b[33mf\u001b[39m\u001b[33m'\u001b[39m\u001b[38;5;132;01m{\u001b[39;00mfuncname\u001b[38;5;132;01m}\u001b[39;00m\u001b[33m requires at least \u001b[39m\u001b[33m'\u001b[39m\n\u001b[32m    907\u001b[39m                     \u001b[33m'\u001b[39m\u001b[33m1 positional argument\u001b[39m\u001b[33m'\u001b[39m)\n\u001b[32m--> \u001b[39m\u001b[32m909\u001b[39m \u001b[38;5;28;01mreturn\u001b[39;00m \u001b[43mdispatch\u001b[49m\u001b[43m(\u001b[49m\u001b[43margs\u001b[49m\u001b[43m[\u001b[49m\u001b[32;43m0\u001b[39;49m\u001b[43m]\u001b[49m\u001b[43m.\u001b[49m\u001b[34;43m__class__\u001b[39;49m\u001b[43m)\u001b[49m\u001b[43m(\u001b[49m\u001b[43m*\u001b[49m\u001b[43margs\u001b[49m\u001b[43m,\u001b[49m\u001b[43m \u001b[49m\u001b[43m*\u001b[49m\u001b[43m*\u001b[49m\u001b[43mkw\u001b[49m\u001b[43m)\u001b[49m\n",
      "\u001b[36mFile \u001b[39m\u001b[32md:\\Projects\\BCCRNASeq\\BCCRNASeq\\.venv\\Lib\\site-packages\\anndata\\_core\\index.py:174\u001b[39m, in \u001b[36m_subset\u001b[39m\u001b[34m(a, subset_idx)\u001b[39m\n\u001b[32m    172\u001b[39m \u001b[38;5;28;01mif\u001b[39;00m \u001b[38;5;28mall\u001b[39m(\u001b[38;5;28misinstance\u001b[39m(x, Iterable) \u001b[38;5;28;01mfor\u001b[39;00m x \u001b[38;5;129;01min\u001b[39;00m subset_idx):\n\u001b[32m    173\u001b[39m     subset_idx = np.ix_(*subset_idx)\n\u001b[32m--> \u001b[39m\u001b[32m174\u001b[39m \u001b[38;5;28;01mreturn\u001b[39;00m \u001b[43ma\u001b[49m\u001b[43m[\u001b[49m\u001b[43msubset_idx\u001b[49m\u001b[43m]\u001b[49m\n",
      "\u001b[31mMemoryError\u001b[39m: Unable to allocate 14.9 GiB for an array with shape (71655, 27940) and data type float64"
     ]
    }
   ],
   "source": [
    "import scipy.sparse as sp\n",
    "if not sp.issparse(adata.X):\n",
    "    adata.X = sp.csr_matrix(adata.X)\n",
    "adata.X = adata.X.astype(\"float32\")"
   ]
  },
  {
   "cell_type": "code",
   "execution_count": 5,
   "id": "e6f006b0",
   "metadata": {},
   "outputs": [
    {
     "ename": "MemoryError",
     "evalue": "Unable to allocate 14.9 GiB for an array with shape (71655, 27940) and data type float64",
     "output_type": "error",
     "traceback": [
      "\u001b[31m---------------------------------------------------------------------------\u001b[39m",
      "\u001b[31mMemoryError\u001b[39m                               Traceback (most recent call last)",
      "\u001b[36mCell\u001b[39m\u001b[36m \u001b[39m\u001b[32mIn[5]\u001b[39m\u001b[32m, line 1\u001b[39m\n\u001b[32m----> \u001b[39m\u001b[32m1\u001b[39m \u001b[43msc\u001b[49m\u001b[43m.\u001b[49m\u001b[43mtl\u001b[49m\u001b[43m.\u001b[49m\u001b[43mpca\u001b[49m\u001b[43m(\u001b[49m\u001b[43madata\u001b[49m\u001b[43m,\u001b[49m\u001b[43m \u001b[49m\u001b[43msvd_solver\u001b[49m\u001b[43m=\u001b[49m\u001b[33;43m'\u001b[39;49m\u001b[33;43marpack\u001b[39;49m\u001b[33;43m'\u001b[39;49m\u001b[43m)\u001b[49m\n\u001b[32m      2\u001b[39m sc.pp.neighbors(adata, use_rep=\u001b[33m'\u001b[39m\u001b[33mX_pca_harmony\u001b[39m\u001b[33m'\u001b[39m)\n\u001b[32m      3\u001b[39m sc.tl.umap(adata)\n",
      "\u001b[36mFile \u001b[39m\u001b[32md:\\Projects\\BCCRNASeq\\BCCRNASeq\\.venv\\Lib\\site-packages\\scanpy\\preprocessing\\_pca\\__init__.py:216\u001b[39m, in \u001b[36mpca\u001b[39m\u001b[34m(data, n_comps, layer, zero_center, svd_solver, chunked, chunk_size, random_state, return_info, mask_var, use_highly_variable, dtype, key_added, copy)\u001b[39m\n\u001b[32m    210\u001b[39m     logg.info(\n\u001b[32m    211\u001b[39m         \u001b[33m\"\u001b[39m\u001b[33mNote that scikit-learn\u001b[39m\u001b[33m'\u001b[39m\u001b[33ms randomized PCA might not be exactly \u001b[39m\u001b[33m\"\u001b[39m\n\u001b[32m    212\u001b[39m         \u001b[33m\"\u001b[39m\u001b[33mreproducible across different computational platforms. For exact \u001b[39m\u001b[33m\"\u001b[39m\n\u001b[32m    213\u001b[39m         \u001b[33m\"\u001b[39m\u001b[33mreproducibility, choose `svd_solver=\u001b[39m\u001b[33m'\u001b[39m\u001b[33marpack\u001b[39m\u001b[33m'\u001b[39m\u001b[33m`.\u001b[39m\u001b[33m\"\u001b[39m\n\u001b[32m    214\u001b[39m     )\n\u001b[32m    215\u001b[39m \u001b[38;5;28;01mif\u001b[39;00m return_anndata := \u001b[38;5;28misinstance\u001b[39m(data, AnnData):\n\u001b[32m--> \u001b[39m\u001b[32m216\u001b[39m     \u001b[38;5;28;01mif\u001b[39;00m layer \u001b[38;5;129;01mis\u001b[39;00m \u001b[38;5;28;01mNone\u001b[39;00m \u001b[38;5;129;01mand\u001b[39;00m \u001b[38;5;129;01mnot\u001b[39;00m chunked \u001b[38;5;129;01mand\u001b[39;00m is_backed_type(\u001b[43mdata\u001b[49m\u001b[43m.\u001b[49m\u001b[43mX\u001b[49m):\n\u001b[32m    217\u001b[39m         msg = \u001b[33mf\u001b[39m\u001b[33m\"\u001b[39m\u001b[33mPCA is not implemented for matrices of type \u001b[39m\u001b[38;5;132;01m{\u001b[39;00m\u001b[38;5;28mtype\u001b[39m(data.X)\u001b[38;5;132;01m}\u001b[39;00m\u001b[33m with chunked as False\u001b[39m\u001b[33m\"\u001b[39m\n\u001b[32m    218\u001b[39m         \u001b[38;5;28;01mraise\u001b[39;00m \u001b[38;5;167;01mNotImplementedError\u001b[39;00m(msg)\n",
      "\u001b[36mFile \u001b[39m\u001b[32md:\\Projects\\BCCRNASeq\\BCCRNASeq\\.venv\\Lib\\site-packages\\anndata\\_core\\anndata.py:574\u001b[39m, in \u001b[36mAnnData.X\u001b[39m\u001b[34m(self)\u001b[39m\n\u001b[32m    571\u001b[39m     X = \u001b[38;5;28;01mNone\u001b[39;00m\n\u001b[32m    572\u001b[39m \u001b[38;5;28;01melif\u001b[39;00m \u001b[38;5;28mself\u001b[39m.is_view:\n\u001b[32m    573\u001b[39m     X = as_view(\n\u001b[32m--> \u001b[39m\u001b[32m574\u001b[39m         \u001b[43m_subset\u001b[49m\u001b[43m(\u001b[49m\u001b[38;5;28;43mself\u001b[39;49m\u001b[43m.\u001b[49m\u001b[43m_adata_ref\u001b[49m\u001b[43m.\u001b[49m\u001b[43mX\u001b[49m\u001b[43m,\u001b[49m\u001b[43m \u001b[49m\u001b[43m(\u001b[49m\u001b[38;5;28;43mself\u001b[39;49m\u001b[43m.\u001b[49m\u001b[43m_oidx\u001b[49m\u001b[43m,\u001b[49m\u001b[43m \u001b[49m\u001b[38;5;28;43mself\u001b[39;49m\u001b[43m.\u001b[49m\u001b[43m_vidx\u001b[49m\u001b[43m)\u001b[49m\u001b[43m)\u001b[49m,\n\u001b[32m    575\u001b[39m         ElementRef(\u001b[38;5;28mself\u001b[39m, \u001b[33m\"\u001b[39m\u001b[33mX\u001b[39m\u001b[33m\"\u001b[39m),\n\u001b[32m    576\u001b[39m     )\n\u001b[32m    577\u001b[39m \u001b[38;5;28;01melse\u001b[39;00m:\n\u001b[32m    578\u001b[39m     X = \u001b[38;5;28mself\u001b[39m._X\n",
      "\u001b[36mFile \u001b[39m\u001b[32mD:\\Software\\miniconda3\\Lib\\functools.py:909\u001b[39m, in \u001b[36msingledispatch.<locals>.wrapper\u001b[39m\u001b[34m(*args, **kw)\u001b[39m\n\u001b[32m    905\u001b[39m \u001b[38;5;28;01mif\u001b[39;00m \u001b[38;5;129;01mnot\u001b[39;00m args:\n\u001b[32m    906\u001b[39m     \u001b[38;5;28;01mraise\u001b[39;00m \u001b[38;5;167;01mTypeError\u001b[39;00m(\u001b[33mf\u001b[39m\u001b[33m'\u001b[39m\u001b[38;5;132;01m{\u001b[39;00mfuncname\u001b[38;5;132;01m}\u001b[39;00m\u001b[33m requires at least \u001b[39m\u001b[33m'\u001b[39m\n\u001b[32m    907\u001b[39m                     \u001b[33m'\u001b[39m\u001b[33m1 positional argument\u001b[39m\u001b[33m'\u001b[39m)\n\u001b[32m--> \u001b[39m\u001b[32m909\u001b[39m \u001b[38;5;28;01mreturn\u001b[39;00m \u001b[43mdispatch\u001b[49m\u001b[43m(\u001b[49m\u001b[43margs\u001b[49m\u001b[43m[\u001b[49m\u001b[32;43m0\u001b[39;49m\u001b[43m]\u001b[49m\u001b[43m.\u001b[49m\u001b[34;43m__class__\u001b[39;49m\u001b[43m)\u001b[49m\u001b[43m(\u001b[49m\u001b[43m*\u001b[49m\u001b[43margs\u001b[49m\u001b[43m,\u001b[49m\u001b[43m \u001b[49m\u001b[43m*\u001b[49m\u001b[43m*\u001b[49m\u001b[43mkw\u001b[49m\u001b[43m)\u001b[49m\n",
      "\u001b[36mFile \u001b[39m\u001b[32md:\\Projects\\BCCRNASeq\\BCCRNASeq\\.venv\\Lib\\site-packages\\anndata\\_core\\index.py:174\u001b[39m, in \u001b[36m_subset\u001b[39m\u001b[34m(a, subset_idx)\u001b[39m\n\u001b[32m    172\u001b[39m \u001b[38;5;28;01mif\u001b[39;00m \u001b[38;5;28mall\u001b[39m(\u001b[38;5;28misinstance\u001b[39m(x, Iterable) \u001b[38;5;28;01mfor\u001b[39;00m x \u001b[38;5;129;01min\u001b[39;00m subset_idx):\n\u001b[32m    173\u001b[39m     subset_idx = np.ix_(*subset_idx)\n\u001b[32m--> \u001b[39m\u001b[32m174\u001b[39m \u001b[38;5;28;01mreturn\u001b[39;00m \u001b[43ma\u001b[49m\u001b[43m[\u001b[49m\u001b[43msubset_idx\u001b[49m\u001b[43m]\u001b[49m\n",
      "\u001b[31mMemoryError\u001b[39m: Unable to allocate 14.9 GiB for an array with shape (71655, 27940) and data type float64"
     ]
    }
   ],
   "source": [
    "sc.tl.pca(adata, svd_solver='arpack')\n",
    "sc.pp.neighbors(adata, use_rep='X_pca_harmony')\n",
    "sc.tl.umap(adata)\n",
    "sc.tl.leiden(adata, resolution=2)"
   ]
  },
  {
   "cell_type": "code",
   "execution_count": null,
   "id": "393f61ae",
   "metadata": {},
   "outputs": [],
   "source": [
    "sc.pl.umap(adata, color=['leiden'])"
   ]
  }
 ],
 "metadata": {
  "kernelspec": {
   "display_name": "bccrnaseq",
   "language": "python",
   "name": "python3"
  },
  "language_info": {
   "codemirror_mode": {
    "name": "ipython",
    "version": 3
   },
   "file_extension": ".py",
   "mimetype": "text/x-python",
   "name": "python",
   "nbconvert_exporter": "python",
   "pygments_lexer": "ipython3",
   "version": "3.11.7"
  }
 },
 "nbformat": 4,
 "nbformat_minor": 5
}
